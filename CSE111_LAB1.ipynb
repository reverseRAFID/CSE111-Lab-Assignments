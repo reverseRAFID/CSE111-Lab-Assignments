{
  "nbformat": 4,
  "nbformat_minor": 0,
  "metadata": {
    "colab": {
      "provenance": [],
      "authorship_tag": "ABX9TyO0Euk8ncv8eUrfuTNwW0Ew",
      "include_colab_link": true
    },
    "kernelspec": {
      "name": "python3",
      "display_name": "Python 3"
    },
    "language_info": {
      "name": "python"
    }
  },
  "cells": [
    {
      "cell_type": "markdown",
      "metadata": {
        "id": "view-in-github",
        "colab_type": "text"
      },
      "source": [
        "<a href=\"https://colab.research.google.com/github/reverseRAFID/CSE111-Lab-Assignments/blob/main/CSE111_LAB1.ipynb\" target=\"_parent\"><img src=\"https://colab.research.google.com/assets/colab-badge.svg\" alt=\"Open In Colab\"/></a>"
      ]
    },
    {
      "cell_type": "markdown",
      "source": [
        "**String**"
      ],
      "metadata": {
        "id": "PloWtiK_ps25"
      }
    },
    {
      "cell_type": "code",
      "execution_count": null,
      "metadata": {
        "id": "L05EdAx0nAz4",
        "colab": {
          "base_uri": "https://localhost:8080/"
        },
        "outputId": "769c9eeb-7708-4443-f119-b33aaba222eb"
      },
      "outputs": [
        {
          "output_type": "stream",
          "name": "stdout",
          "text": [
            "BaNaNa\n",
            "banana\n"
          ]
        }
      ],
      "source": [
        "#Task1\n",
        "x = input(\"\")\n",
        "count_upper = 0\n",
        "count_lower = 0\n",
        "\n",
        "for alphabet in x:\n",
        "  if 65 <= ord(alphabet) <= 90:\n",
        "    count_upper += 1\n",
        "  elif 97 <= ord(alphabet) <= 122:\n",
        "    count_lower += 1\n",
        "\n",
        "if count_upper > count_lower:\n",
        "  result = x.upper()\n",
        "else:\n",
        "  result = x.lower()\n",
        "\n",
        "print(result)\n",
        " "
      ]
    },
    {
      "cell_type": "code",
      "source": [
        "#Task2\n",
        "x = input(\"\")\n",
        "count_num = 0\n",
        "count_alphabet = 0\n",
        "count_mix = 0\n",
        "\n",
        "for alphabet_number in x: \n",
        "  ord_num = ord(alphabet_number)\n",
        "  if (ord_num>=65 and ord_num<=90) or (ord_num>=97 and ord_num<=122) :\n",
        "    count_alphabet += 1\n",
        "  elif ord_num>=48 and ord_num<=57:\n",
        "    count_num += 1\n",
        "if count_num > 0 and count_alphabet > 0:\n",
        "  print('MIXED')\n",
        "elif count_num > 0:\n",
        "  print('NUMBER')\n",
        "else:\n",
        "  print('WORD')"
      ],
      "metadata": {
        "colab": {
          "base_uri": "https://localhost:8080/"
        },
        "id": "45ukXbpJpq28",
        "outputId": "1f6fabcb-84c4-446a-824a-11ffe7db7bb4"
      },
      "execution_count": null,
      "outputs": [
        {
          "output_type": "stream",
          "name": "stdout",
          "text": [
            "jhg231j213\n",
            "MIXED\n"
          ]
        }
      ]
    },
    {
      "cell_type": "code",
      "source": [
        "#Task 3\n",
        "x = input(\"\")\n",
        "\n",
        "text = []\n",
        "\n",
        "for i in x:\n",
        "  if i.isupper() == True:\n",
        "    text += i\n",
        "start_letter = text[0]\n",
        "end_letter = text[1]\n",
        "\n",
        "start = x.index(start_letter) + 1\n",
        "end = x.index(end_letter)\n",
        "\n",
        "if x[start:end] == \"\":\n",
        "  print(\"BLANK\")\n",
        "\n",
        "print(x[start:end])"
      ],
      "metadata": {
        "colab": {
          "base_uri": "https://localhost:8080/"
        },
        "id": "BhD8vAGcqSu0",
        "outputId": "4e2c5a50-3db5-47ea-82a2-eb74146f7a12"
      },
      "execution_count": null,
      "outputs": [
        {
          "output_type": "stream",
          "name": "stdout",
          "text": [
            "baNgladEsh\n",
            "glad\n"
          ]
        }
      ]
    },
    {
      "cell_type": "code",
      "source": [
        "#Task 4\n",
        "string=input().split(\", \")\n",
        "tup_string=tuple(string)\n",
        "(fist_string, second_string) =tup_string\n",
        "\n",
        "new_string= \"\"\n",
        "for alphabet in range(len(first_string)):\n",
        "    if first_string[alphabet] in second_string:\n",
        "        new_string = new_string+first_string[alphabet] \n",
        "for alphabet in range(len(second_string)):\n",
        "    if second_string[alphabet] in first_string:\n",
        "        new_string = new_string+second_string[alphabet]\n",
        "if new_string==\"\":\n",
        "    print(\"Nothing in common\")\n",
        "else :\n",
        "    print(new_string)"
      ],
      "metadata": {
        "colab": {
          "base_uri": "https://localhost:8080/"
        },
        "id": "heVzcwXVqedU",
        "outputId": "9892243b-b5f2-487d-f316-4bb1f2dd8c72"
      },
      "execution_count": null,
      "outputs": [
        {
          "output_type": "stream",
          "name": "stdout",
          "text": [
            "dean, tom\n",
            "Nothing in common\n"
          ]
        }
      ]
    },
    {
      "cell_type": "code",
      "source": [
        "#Task 5\n",
        "import re\n",
        "\n",
        "password = input(\"\")\n",
        "a = True\n",
        "comment = \"\"\n",
        "\n",
        "string1 = \"Lowercase character missing, \"\n",
        "string2 = \"Uppercase character missing, \"\n",
        "string3 = \"Digit missing, \"\n",
        "string4 = \"Special character missing. \"\n",
        "\n",
        "while a:\n",
        "  if not re.search(\"[a-z]\",password):\n",
        "    comment += string1\n",
        "    \n",
        "  if not re.search(\"[A-Z]\",password):\n",
        "    comment += string2\n",
        "    \n",
        "  if not re.search(\"[0-9]\",password):\n",
        "    comment += string3\n",
        "    \n",
        "  if not re.search(\"[_$#@]\",password):\n",
        "    comment += string4\n",
        "    break\n",
        "  else:\n",
        "    print(\"OK\")\n",
        "    a = False\n",
        "    break\n",
        "if a:\n",
        "  print(comment)"
      ],
      "metadata": {
        "colab": {
          "base_uri": "https://localhost:8080/"
        },
        "id": "Cp2lA1tFrOdm",
        "outputId": "71913379-0d71-4bdf-fe3f-a2ebd1e34674"
      },
      "execution_count": null,
      "outputs": [
        {
          "output_type": "stream",
          "name": "stdout",
          "text": [
            "ohmybracu\n",
            "Uppercase character missing, Digit missing, Special character missing. \n"
          ]
        }
      ]
    },
    {
      "cell_type": "code",
      "source": [
        "password=input()\n",
        "\n",
        "up = low = num = sp = False\n",
        "\n",
        "uppercase = \"ABCDEFGHIJKLMNOPQRSTUVWXYZ\"\n",
        "lowercase = \"abcdefghijklmnoppqrstuvwxyz\"\n",
        "number = \"1234567890\"\n",
        "special = \"_$#@\"\n",
        "\n",
        "\n",
        "for char in password:\n",
        "  if char in uppercase:\n",
        "    up= True\n",
        "  if char in lowercase:\n",
        "    low = True\n",
        "  if char in number:\n",
        "    num= True\n",
        "  if char in special:\n",
        "    sp= True\n",
        "\n",
        "\n",
        "if up == False:\n",
        "  print(\"Uppercase character missing\",end=', ')\n",
        "if low == False:\n",
        "  print(\"Lowercaw character missing\",end=', ')\n",
        "if num == False:\n",
        "  print(\"Digit missing\",end=', ')\n",
        "if sp==False:\n",
        "  print(\"Special Character missing\",end=', ')\n",
        "\n",
        "if up!=False and low!=False and num!=False and sp!=False:\n",
        "  print(\"OK\")"
      ],
      "metadata": {
        "colab": {
          "base_uri": "https://localhost:8080/"
        },
        "id": "q-JSpF6NtZJV",
        "outputId": "57d5cf64-4028-407b-bd3e-0b1e3ada0d25"
      },
      "execution_count": null,
      "outputs": [
        {
          "output_type": "stream",
          "name": "stdout",
          "text": [
            "ohmybracu\n",
            "Uppercase character missing, Digit missing, Special Character missing, "
          ]
        }
      ]
    },
    {
      "cell_type": "markdown",
      "source": [
        "**List**"
      ],
      "metadata": {
        "id": "RYjDAUtiuBZL"
      }
    },
    {
      "cell_type": "code",
      "source": [
        "#Task 1\n",
        "my_list=[]\n",
        "var1=0\n",
        "while True:\n",
        "    new_list=input()\n",
        "    if new_list == \"STOP\":\n",
        "        break\n",
        "    else:\n",
        "        my_list.append(new_list)\n",
        "    var1=var1+1\n",
        "var2=0\n",
        "new_list=[]\n",
        "while var2<len(my_list):\n",
        "    if my_list[var2] not in new_list:\n",
        "        print(my_list[var2],\"-\",my_list.count(my_list[var2]),\"times\")\n",
        "        new_list.append(my_list[var2])\n",
        "    var2=var2+1"
      ],
      "metadata": {
        "colab": {
          "base_uri": "https://localhost:8080/"
        },
        "id": "I5UymB7ZuEYq",
        "outputId": "1ba2cc28-b8ce-437b-a62f-ee38ebd793ac"
      },
      "execution_count": null,
      "outputs": [
        {
          "output_type": "stream",
          "name": "stdout",
          "text": [
            "10\n",
            "20\n",
            "20\n",
            "30\n",
            "10\n",
            "50\n",
            "90\n",
            "STOP\n",
            "10 - 2 times\n",
            "20 - 2 times\n",
            "30 - 1 times\n",
            "50 - 1 times\n",
            "90 - 1 times\n"
          ]
        }
      ]
    },
    {
      "cell_type": "code",
      "source": [
        "#Task 2\n",
        "x=int(input(\"\"))\n",
        "list_1 = []\n",
        "list_2 = []\n",
        "for i in range(x):\n",
        "    i = input()\n",
        "    i = i.split()\n",
        "    i = [int(s) for s in i]\n",
        "    list_1.append(i)\n",
        "for num in range(len(list_1)):\n",
        "    summation = sum(list_1[num])\n",
        "    list_2.append(summation)               \n",
        "max_list = list_2.index(max(list_2))\n",
        "print(max(list_2))\n",
        "print(list_1[max_list])"
      ],
      "metadata": {
        "colab": {
          "base_uri": "https://localhost:8080/"
        },
        "id": "wNI85ia1uP1-",
        "outputId": "7167a8f6-9968-414a-c0a3-3ecdd75b9e69"
      },
      "execution_count": null,
      "outputs": [
        {
          "output_type": "stream",
          "name": "stdout",
          "text": [
            "4\n",
            "1 2 3\n",
            "4 5 6\n",
            "10 11 12 \n",
            "7 8 9\n",
            "33\n",
            "[10, 11, 12]\n"
          ]
        }
      ]
    },
    {
      "cell_type": "code",
      "source": [
        "def int_lst(lst):\n",
        "  for i in range(len(lst)):\n",
        "    lst[i] = int(lst[i])\n",
        "  return lst\n",
        "\n",
        "lst1 = input().split(\" \")\n",
        "lst2 = input().split(\" \")\n",
        "ans=[]\n",
        "#converting str into int and storing into the same list\n",
        "\n",
        "lst1=int_lst(lst1)\n",
        "lst2=int_lst(lst2)\n",
        "\n",
        "#mulitplying 1st value(lst1) with the value(lst2) consecutively\n",
        "for k in lst1:\n",
        "  for l in lst2:\n",
        "    ans.append(k*l)\n",
        "\n",
        "print(ans)"
      ],
      "metadata": {
        "colab": {
          "base_uri": "https://localhost:8080/"
        },
        "id": "o8TnFs0puuCu",
        "outputId": "0dd61df5-3471-4ab6-b66d-a792795d3e0b"
      },
      "execution_count": null,
      "outputs": [
        {
          "output_type": "stream",
          "name": "stdout",
          "text": [
            "2 3 6\n",
            "3 4 5\n",
            "[6, 8, 10, 9, 12, 15, 18, 24, 30]\n"
          ]
        }
      ]
    },
    {
      "cell_type": "code",
      "source": [
        "list_1 = []\n",
        "\n",
        "while True:\n",
        "    sin = input()\n",
        "    if sin == 'STOP':\n",
        "        break\n",
        "    else:\n",
        "        sin = list(map(int, sin.split()))\n",
        "        is_ub_jumper = True\n",
        "        for i in range(len(sin) - 1):\n",
        "            diff = abs(sin[i] - sin[i + 1])\n",
        "            if diff >= len(sin):\n",
        "                is_ub_jumper = False\n",
        "                break\n",
        "        list_1.append(\"UB JUMPER\" if is_ub_jumper else \"NOT UB JUMPER\")\n",
        "\n",
        "for i in list_1:\n",
        "    print(i)\n"
      ],
      "metadata": {
        "colab": {
          "base_uri": "https://localhost:8080/"
        },
        "id": "1crEW9gXwxLA",
        "outputId": "6142ba45-0166-4b41-b5f5-79c09e173b9c"
      },
      "execution_count": null,
      "outputs": [
        {
          "output_type": "stream",
          "name": "stdout",
          "text": [
            "1 4 2 3\n",
            "2 1 4 6 10\n",
            "1 4 2 -1 6\n",
            "STOP\n",
            "UB JUMPER\n",
            "UB JUMPER\n",
            "NOT UB JUMPER\n"
          ]
        }
      ]
    },
    {
      "cell_type": "code",
      "source": [
        "#Task 4\n",
        "user_1 = input().split()\n",
        "user_2 = input().split()\n",
        "c1=0\n",
        "for i in user_2:\n",
        "    if (int(user_1[1]))<=(5-int(i)):\n",
        "        c1=c1+1\n",
        "team=c1//3\n",
        "print(team)"
      ],
      "metadata": {
        "colab": {
          "base_uri": "https://localhost:8080/"
        },
        "id": "5zb9VYrWxgqc",
        "outputId": "71a218a5-7042-4abf-a800-f87454b89b63"
      },
      "execution_count": null,
      "outputs": [
        {
          "output_type": "stream",
          "name": "stdout",
          "text": [
            "5 2\n",
            "0 4 5 1 0\n",
            "1\n"
          ]
        }
      ]
    },
    {
      "cell_type": "markdown",
      "source": [
        "**Dictionary & Tuple**"
      ],
      "metadata": {
        "id": "uJS1l8nbxzCw"
      }
    },
    {
      "cell_type": "code",
      "source": [
        "#Task 1\n",
        "dict_1 = {'a': 100, 'b': 100, 'c': 200, 'd': 300}\n",
        "dict_2 = {'a': 300, 'b': 200, 'd': 400, 'e': 200}\n",
        "empty_list = []\n",
        "new_dict = {}\n",
        "for key in dict_1:\n",
        "    if key in dict_2:\n",
        "        dict_1[key] = dict_1[key] + dict_2[key]\n",
        "    else:\n",
        "        continue\n",
        "new_dict.update(dict_2)\n",
        "new_dict.update(dict_1)\n",
        "print(new_dict)\n",
        "new_dict = list(new_dict.values())\n",
        "new_list_sorted = new_dict.sort()\n",
        "\n",
        "for i in new_dict:\n",
        "    if i in empty_list:\n",
        "        continue\n",
        "    else:\n",
        "        empty_list.append(i)\n",
        "print('Values:', tuple(empty_list))\n"
      ],
      "metadata": {
        "colab": {
          "base_uri": "https://localhost:8080/"
        },
        "id": "sRu-AjvcxqI3",
        "outputId": "e964028f-2926-46e9-e119-d34f344beadc"
      },
      "execution_count": null,
      "outputs": [
        {
          "output_type": "stream",
          "name": "stdout",
          "text": [
            "{'a': 400, 'b': 300, 'd': 700, 'e': 200, 'c': 200}\n",
            "Values: (200, 300, 400, 700)\n"
          ]
        }
      ]
    },
    {
      "cell_type": "code",
      "source": [
        "#Task 2\n",
        "x=input(\"\")\n",
        "\n",
        "my_list = []\n",
        "my_dict= {}\n",
        "\n",
        "while x.upper() != \"STOP\":\n",
        "  my_list.append(int(x))\n",
        "  x = input()\n",
        "for i in my_list:\n",
        "  if (i in my_dict):\n",
        "    my_dict[i] += 1\n",
        "  else:\n",
        "    my_dict[i] = 1\n",
        "\n",
        "for key, value in my_dict.items():\n",
        "  print (key,\"-\",value,\"times\")"
      ],
      "metadata": {
        "colab": {
          "base_uri": "https://localhost:8080/"
        },
        "id": "9aNE5B2rx4YE",
        "outputId": "53837451-0457-43f7-966c-70585745d988"
      },
      "execution_count": null,
      "outputs": [
        {
          "output_type": "stream",
          "name": "stdout",
          "text": [
            "10\n",
            "20\n",
            "20\n",
            "30\n",
            "10\n",
            "50\n",
            "90\n",
            "STOP\n",
            "10 - 2 times\n",
            "20 - 2 times\n",
            "30 - 1 times\n",
            "50 - 1 times\n",
            "90 - 1 times\n"
          ]
        }
      ]
    },
    {
      "cell_type": "code",
      "source": [
        "#Task 3\n",
        "str1 = input()  # \"Key1 : value1, Key2 : value2, key3 : value1\" #Question Input Example\n",
        "my_dict = {}\n",
        "dictionary = dict((x.strip(), y.strip())\n",
        "for x, y in (item.split(\":\") for item in str1.split(\", \")))\n",
        "for item1, item2 in dictionary.items():\n",
        "  if item2 in my_dict:\n",
        "    my_dict[item2] = my_dict[item2] + [item1]\n",
        "  else:\n",
        "    my_dict[item2] = [item1]\n",
        "\n",
        "print(my_dict)"
      ],
      "metadata": {
        "colab": {
          "base_uri": "https://localhost:8080/"
        },
        "id": "7uVcpc-vyMgH",
        "outputId": "3b3e4fc9-21e5-470c-85ed-57ec928e041e"
      },
      "execution_count": null,
      "outputs": [
        {
          "output_type": "stream",
          "name": "stdout",
          "text": [
            "key1 : value1, key2 : value2, key3 : value1\n",
            "{'value1': ['key1', 'key3'], 'value2': ['key2']}\n"
          ]
        }
      ]
    },
    {
      "cell_type": "code",
      "source": [
        "#Task 4\n",
        "string_1 = input()\n",
        "string_2 = \"\"\n",
        "for i in range(len(string_1)):\n",
        "    if ord(string_1[i])>=97 and ord(string_1[i])<=122:\n",
        "        string_2 = string_2 + chr(ord(string_1[i]) - 32)\n",
        "    else:\n",
        "        string_2 = string_2 + string_1[i]\n",
        "s=\"\"\n",
        "total={1:[\".\",\",\",\"?\",\"!\",':'],\n",
        "       2:[\"A\",\"B\",\"C\"],3:[\"D\",\"E\",\"F\"],4:[\"G\",\"H\",'I'],5:[\"J\",\"K\",\"L\"],6:[\"M\",\"N\",\"O\"],\n",
        "       7:[\"P\",\"Q\",\"R\",\"S\"],8:[\"T\",\"U\",\"V\"],9:[\"W\",\"X\",\"Y\",\"Z\"],0:[\" \"]}\n",
        "\n",
        "for i in range(len(string_2)):\n",
        "    for j,k in total.items():\n",
        "        if string_2[i] in k:\n",
        "            for l in range(len(k)):\n",
        "                if string_2[i] ==k[l]:\n",
        "                    x=len(k[:l+1])\n",
        "                    for t in range(x):\n",
        "                        s=s+str(j)\n",
        "print(s)"
      ],
      "metadata": {
        "colab": {
          "base_uri": "https://localhost:8080/"
        },
        "id": "Es1V3cpEyf34",
        "outputId": "2e8b7084-ea10-4186-8edf-5ace1e03b04d"
      },
      "execution_count": null,
      "outputs": [
        {
          "output_type": "stream",
          "name": "stdout",
          "text": [
            "Hello, World!\n",
            "4433555555666110966677755531111\n"
          ]
        }
      ]
    }
  ]
}