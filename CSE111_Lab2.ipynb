{
  "nbformat": 4,
  "nbformat_minor": 0,
  "metadata": {
    "colab": {
      "provenance": [],
      "authorship_tag": "ABX9TyOkS0CHSKWUS74lvMLE89qx",
      "include_colab_link": true
    },
    "kernelspec": {
      "name": "python3",
      "display_name": "Python 3"
    },
    "language_info": {
      "name": "python"
    }
  },
  "cells": [
    {
      "cell_type": "markdown",
      "metadata": {
        "id": "view-in-github",
        "colab_type": "text"
      },
      "source": [
        "<a href=\"https://colab.research.google.com/github/reverseRAFID/CSE111-Lab-Assignments/blob/main/CSE111_Lab2.ipynb\" target=\"_parent\"><img src=\"https://colab.research.google.com/assets/colab-badge.svg\" alt=\"Open In Colab\"/></a>"
      ]
    },
    {
      "cell_type": "code",
      "execution_count": null,
      "metadata": {
        "id": "I3FM7Uqu9lja",
        "colab": {
          "base_uri": "https://localhost:8080/"
        },
        "outputId": "40246c7f-eece-4298-d27a-c4bbe345a7f9"
      },
      "outputs": [
        {
          "output_type": "stream",
          "name": "stdout",
          "text": [
            "0\n"
          ]
        }
      ],
      "source": [
        "#Task1\n",
        "def fraction_part(a, b):\n",
        "    if a>0 and b>0:\n",
        "        temp = a/b\n",
        "        return temp - b\n",
        "    else:\n",
        "        return 0\n",
        "    \n",
        "print(fraction_part(0,5))"
      ]
    },
    {
      "cell_type": "code",
      "source": [
        "#Task2\n",
        "def BMI_calculator(a,b):\n",
        "    cm_to_m = a/100\n",
        "    bmi = round(b/(cm_to_m**2),1)\n",
        "    if bmi < 18.5:\n",
        "        flag=\"Underweight\"\n",
        "    elif bmi < 25:\n",
        "        flag=\"Normal\"\n",
        "    elif bmi < 30:\n",
        "        flag=\"Overweight\"\n",
        "    else:\n",
        "        flag=\"Obese\"\n",
        "    return bmi, flag\n",
        "\n",
        "(bmi, flag)=BMI_calculator(175,96)\n",
        "print(f\"Score is {bmi}. You are {flag}\")"
      ],
      "metadata": {
        "colab": {
          "base_uri": "https://localhost:8080/"
        },
        "id": "afbT9veEvPtW",
        "outputId": "0680bf4c-9b44-494a-8424-3ecc087d975a"
      },
      "execution_count": null,
      "outputs": [
        {
          "output_type": "stream",
          "name": "stdout",
          "text": [
            "Score is 31.3. You are Obese\n"
          ]
        }
      ]
    },
    {
      "cell_type": "code",
      "source": [
        "#Task3\n",
        "def divisible(min, max, divisor):\n",
        "    sum = 0\n",
        "    for i in range(min, max):\n",
        "        if i % divisor == 0:\n",
        "            sum = sum + i\n",
        "    return sum\n",
        "\n",
        "print(divisible(3, 16, 3))"
      ],
      "metadata": {
        "colab": {
          "base_uri": "https://localhost:8080/"
        },
        "id": "Jn3j1coUU6Fq",
        "outputId": "092edb1e-6ccc-43c5-ea8e-665269ac4093"
      },
      "execution_count": null,
      "outputs": [
        {
          "output_type": "stream",
          "name": "stdout",
          "text": [
            "45\n"
          ]
        }
      ]
    },
    {
      "cell_type": "code",
      "source": [
        "#Task4\n",
        "def chillox(order, Default=\"Mohakhali\"):\n",
        "    Menu={\n",
        "        \"BBQ Chicken Cheese Burger\": 250,\n",
        "        \"Beef Burger\": 170,\n",
        "        \"Naga Drums\": 200,\n",
        "    }\n",
        "    if Default==\"Mohakhali\":\n",
        "        total=Menu[order] + Menu[order]*0.08 + 40\n",
        "        return total\n",
        "    else:\n",
        "        total=Menu[order] + Menu[order]*0.08 + 60\n",
        "        return total\n",
        "\n",
        "print(chillox(\"Beef Burger\"))"
      ],
      "metadata": {
        "colab": {
          "base_uri": "https://localhost:8080/"
        },
        "id": "LseDIUSFrA_3",
        "outputId": "95b0f42f-0b29-429b-f935-0103b2c8f0c2"
      },
      "execution_count": null,
      "outputs": [
        {
          "output_type": "stream",
          "name": "stdout",
          "text": [
            "223.6\n"
          ]
        }
      ]
    },
    {
      "cell_type": "code",
      "source": [
        "#Task 5\n",
        "def repace_domain(mail, new_domain, old_domain=\"kaaj.com\"):\n",
        "    if old_domain in mail:\n",
        "        index = mail.index(old_domain)\n",
        "        mail = mail[:index] + new_domain\n",
        "        return f\"Changed: {mail}\"\n",
        "    elif new_domain in mail:\n",
        "        return f\"Unchanged: {mail}\"\n",
        "\n",
        "print(repace_domain(\"bob@sheba.xyz\", \"sheba.xyz\"))"
      ],
      "metadata": {
        "colab": {
          "base_uri": "https://localhost:8080/"
        },
        "id": "ZukJG9lQ3AYE",
        "outputId": "8b994066-30db-4a5c-d61f-b021d78ad492"
      },
      "execution_count": null,
      "outputs": [
        {
          "output_type": "stream",
          "name": "stdout",
          "text": [
            "Unchanged: bob@sheba.xyz\n"
          ]
        }
      ]
    },
    {
      "cell_type": "code",
      "source": [
        "#Task 6\n",
        "def total_vowel(s):\n",
        "    vowels = \"aeiouAEIOU\"\n",
        "    count = 0\n",
        "    temp = \"\"\n",
        "    for i in s:\n",
        "        if i in vowels:\n",
        "            count += 1\n",
        "            temp += i + \", \"\n",
        "    if count>0:\n",
        "        return f\"Vowels: {temp[:-2]}. Total number of vowels: {count}\"\n",
        "    else:  \n",
        "        return f\"No vowels in the name\"\n",
        "\n",
        "\n",
        "print(total_vowel(\"Steve Jobs\"))"
      ],
      "metadata": {
        "colab": {
          "base_uri": "https://localhost:8080/"
        },
        "id": "bq_xUpt34f7t",
        "outputId": "8c00a426-22e8-4dc2-9115-ebbef06eb5ca"
      },
      "execution_count": null,
      "outputs": [
        {
          "output_type": "stream",
          "name": "stdout",
          "text": [
            "Vowels: e, e, o. Total number of vowels: 3\n"
          ]
        }
      ]
    },
    {
      "cell_type": "code",
      "source": [
        "#Task 7\n",
        "def palindrome(temp):\n",
        "    word = \"\"   \n",
        "    for i in temp:\n",
        "        if i==\" \":\n",
        "            pass\n",
        "        else:\n",
        "            word+=i\n",
        "\n",
        "    for i in range(len(word)):\n",
        "        if word[i] != word[-i-1]:\n",
        "            return \"Not a palindrome\"\n",
        "        else:\n",
        "            return \"Palindrome\"\n",
        "print(palindrome(\"nurses run\"))"
      ],
      "metadata": {
        "colab": {
          "base_uri": "https://localhost:8080/"
        },
        "id": "xtvB6VsFwycB",
        "outputId": "1e7abd73-ccda-40cf-f98f-db11f0007453"
      },
      "execution_count": null,
      "outputs": [
        {
          "output_type": "stream",
          "name": "stdout",
          "text": [
            "Palindrome\n"
          ]
        }
      ]
    },
    {
      "cell_type": "code",
      "source": [
        "#Task8\n",
        "def day_to_year_month_day(day):\n",
        "\n",
        "    year = day // 365\n",
        "    month = (day % 365) // 30\n",
        "    day = day - (year * 365 + month * 30)\n",
        "    return f\"{year} years, {month} months and {day} days\"\n",
        "\n",
        "print(day_to_year_month_day(4320)) "
      ],
      "metadata": {
        "colab": {
          "base_uri": "https://localhost:8080/"
        },
        "id": "6fqytzCKz3hp",
        "outputId": "dad7fc16-467e-4cf4-fcdc-a9d7f6797f19"
      },
      "execution_count": null,
      "outputs": [
        {
          "output_type": "stream",
          "name": "stdout",
          "text": [
            "11 years, 10 months and 5 days\n"
          ]
        }
      ]
    },
    {
      "cell_type": "code",
      "source": [
        "#Task9\n",
        "def capitalize(sentence):\n",
        "    new_sentence=\"\"\n",
        "    # Capitalize the first word in the string\n",
        "    lst=sentence.split(\" \")\n",
        "    new_sentence+=lst[0].title()\n",
        "    # Capitalize the first letter after a period\n",
        "    for i in range(len(lst[0]),len(sentence)):\n",
        "        if sentence[i-2]==\".\":\n",
        "            new_sentence+=sentence[i].upper()\n",
        "        elif sentence[i-2]==\"!\":\n",
        "            new_sentence+=sentence[i].upper()\n",
        "        elif sentence[i-2]==\"?\":\n",
        "            new_sentence+=sentence[i].upper()\n",
        "        \n",
        "        elif sentence[i]==\" i \":\n",
        "            new_sentence+=sentence[i].upper()\n",
        "        else:\n",
        "            new_sentence+=sentence[i]\n",
        "\n",
        "    return new_sentence\n",
        "\n",
        "\n",
        "print(capitalize(\"my favourite animal is a dog. a dog has sharp teeth so that it can eat flesh very easily. do you know my pet dog’s name? i love my pet very much.\"))"
      ],
      "metadata": {
        "colab": {
          "base_uri": "https://localhost:8080/"
        },
        "id": "cU7zSi8_8PBT",
        "outputId": "6843149a-789d-42e6-c071-c885ffa7ae0d"
      },
      "execution_count": null,
      "outputs": [
        {
          "output_type": "stream",
          "name": "stdout",
          "text": [
            "My favourite animal is a dog. A dog has sharp teeth so that it can eat flesh very easily. Do you know my pet dog’s name? I love my pet very much.\n"
          ]
        }
      ]
    }
  ]
}